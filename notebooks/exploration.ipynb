{
 "cells": [
  {
   "cell_type": "code",
   "execution_count": 104,
   "metadata": {},
   "outputs": [],
   "source": [
    "import pandas as pd\n",
    "import numpy as np\n",
    "import seaborn as sb\n",
    "import matplotlib.pyplot as plt\n",
    "import utils\n",
    "from utils import *\n",
    "import missingno as msno\n",
    "from sklearn import preprocessing\n",
    "from sklearn.preprocessing import StandardScaler\n"
   ]
  },
  {
   "cell_type": "code",
   "execution_count": 105,
   "metadata": {},
   "outputs": [],
   "source": [
    "train = pd.read_csv('../input/train.csv')\n",
    "test = pd.read_csv('../input/test.csv')"
   ]
  },
  {
   "cell_type": "code",
   "execution_count": 106,
   "metadata": {},
   "outputs": [
    {
     "data": {
      "text/html": [
       "<div>\n",
       "<style scoped>\n",
       "    .dataframe tbody tr th:only-of-type {\n",
       "        vertical-align: middle;\n",
       "    }\n",
       "\n",
       "    .dataframe tbody tr th {\n",
       "        vertical-align: top;\n",
       "    }\n",
       "\n",
       "    .dataframe thead th {\n",
       "        text-align: right;\n",
       "    }\n",
       "</style>\n",
       "<table border=\"1\" class=\"dataframe\">\n",
       "  <thead>\n",
       "    <tr style=\"text-align: right;\">\n",
       "      <th></th>\n",
       "      <th>id</th>\n",
       "      <th>campaign_id</th>\n",
       "      <th>coupon_id</th>\n",
       "      <th>customer_id</th>\n",
       "      <th>redemption_status</th>\n",
       "      <th>date</th>\n",
       "      <th>item_id</th>\n",
       "      <th>quantity</th>\n",
       "      <th>selling_price</th>\n",
       "      <th>other_discount</th>\n",
       "      <th>...</th>\n",
       "      <th>category</th>\n",
       "      <th>age_range</th>\n",
       "      <th>marital_status</th>\n",
       "      <th>rented</th>\n",
       "      <th>family_size</th>\n",
       "      <th>no_of_children</th>\n",
       "      <th>income_bracket</th>\n",
       "      <th>campaign_type</th>\n",
       "      <th>start_date</th>\n",
       "      <th>end_date</th>\n",
       "    </tr>\n",
       "  </thead>\n",
       "  <tbody>\n",
       "    <tr>\n",
       "      <th>0</th>\n",
       "      <td>15</td>\n",
       "      <td>29</td>\n",
       "      <td>538</td>\n",
       "      <td>368</td>\n",
       "      <td>0</td>\n",
       "      <td>2013-05-30</td>\n",
       "      <td>9962</td>\n",
       "      <td>1</td>\n",
       "      <td>45.95</td>\n",
       "      <td>0.00</td>\n",
       "      <td>...</td>\n",
       "      <td>Grocery</td>\n",
       "      <td>36-45</td>\n",
       "      <td>NaN</td>\n",
       "      <td>0.0</td>\n",
       "      <td>1</td>\n",
       "      <td>NaN</td>\n",
       "      <td>5.0</td>\n",
       "      <td>Y</td>\n",
       "      <td>08/10/12</td>\n",
       "      <td>30/11/12</td>\n",
       "    </tr>\n",
       "    <tr>\n",
       "      <th>1</th>\n",
       "      <td>15</td>\n",
       "      <td>29</td>\n",
       "      <td>538</td>\n",
       "      <td>368</td>\n",
       "      <td>0</td>\n",
       "      <td>2013-05-30</td>\n",
       "      <td>29027</td>\n",
       "      <td>1</td>\n",
       "      <td>45.95</td>\n",
       "      <td>0.00</td>\n",
       "      <td>...</td>\n",
       "      <td>Grocery</td>\n",
       "      <td>36-45</td>\n",
       "      <td>NaN</td>\n",
       "      <td>0.0</td>\n",
       "      <td>1</td>\n",
       "      <td>NaN</td>\n",
       "      <td>5.0</td>\n",
       "      <td>Y</td>\n",
       "      <td>08/10/12</td>\n",
       "      <td>30/11/12</td>\n",
       "    </tr>\n",
       "    <tr>\n",
       "      <th>2</th>\n",
       "      <td>21</td>\n",
       "      <td>13</td>\n",
       "      <td>1028</td>\n",
       "      <td>89</td>\n",
       "      <td>0</td>\n",
       "      <td>2012-06-24</td>\n",
       "      <td>52056</td>\n",
       "      <td>1</td>\n",
       "      <td>71.24</td>\n",
       "      <td>-28.14</td>\n",
       "      <td>...</td>\n",
       "      <td>Grocery</td>\n",
       "      <td>46-55</td>\n",
       "      <td>NaN</td>\n",
       "      <td>0.0</td>\n",
       "      <td>1</td>\n",
       "      <td>NaN</td>\n",
       "      <td>3.0</td>\n",
       "      <td>X</td>\n",
       "      <td>19/05/13</td>\n",
       "      <td>05/07/13</td>\n",
       "    </tr>\n",
       "    <tr>\n",
       "      <th>3</th>\n",
       "      <td>22</td>\n",
       "      <td>9</td>\n",
       "      <td>705</td>\n",
       "      <td>712</td>\n",
       "      <td>0</td>\n",
       "      <td>2013-06-11</td>\n",
       "      <td>4904</td>\n",
       "      <td>1</td>\n",
       "      <td>113.63</td>\n",
       "      <td>-39.18</td>\n",
       "      <td>...</td>\n",
       "      <td>Grocery</td>\n",
       "      <td>46-55</td>\n",
       "      <td>Married</td>\n",
       "      <td>0.0</td>\n",
       "      <td>3</td>\n",
       "      <td>1</td>\n",
       "      <td>5.0</td>\n",
       "      <td>Y</td>\n",
       "      <td>11/03/13</td>\n",
       "      <td>12/04/13</td>\n",
       "    </tr>\n",
       "    <tr>\n",
       "      <th>4</th>\n",
       "      <td>22</td>\n",
       "      <td>9</td>\n",
       "      <td>705</td>\n",
       "      <td>712</td>\n",
       "      <td>0</td>\n",
       "      <td>2013-06-20</td>\n",
       "      <td>4904</td>\n",
       "      <td>1</td>\n",
       "      <td>113.63</td>\n",
       "      <td>-39.18</td>\n",
       "      <td>...</td>\n",
       "      <td>Grocery</td>\n",
       "      <td>46-55</td>\n",
       "      <td>Married</td>\n",
       "      <td>0.0</td>\n",
       "      <td>3</td>\n",
       "      <td>1</td>\n",
       "      <td>5.0</td>\n",
       "      <td>Y</td>\n",
       "      <td>11/03/13</td>\n",
       "      <td>12/04/13</td>\n",
       "    </tr>\n",
       "  </tbody>\n",
       "</table>\n",
       "<p>5 rows × 23 columns</p>\n",
       "</div>"
      ],
      "text/plain": [
       "   id  campaign_id  coupon_id  customer_id  redemption_status        date  \\\n",
       "0  15           29        538          368                  0  2013-05-30   \n",
       "1  15           29        538          368                  0  2013-05-30   \n",
       "2  21           13       1028           89                  0  2012-06-24   \n",
       "3  22            9        705          712                  0  2013-06-11   \n",
       "4  22            9        705          712                  0  2013-06-20   \n",
       "\n",
       "   item_id  quantity  selling_price  other_discount  ...  category  age_range  \\\n",
       "0     9962         1          45.95            0.00  ...   Grocery      36-45   \n",
       "1    29027         1          45.95            0.00  ...   Grocery      36-45   \n",
       "2    52056         1          71.24          -28.14  ...   Grocery      46-55   \n",
       "3     4904         1         113.63          -39.18  ...   Grocery      46-55   \n",
       "4     4904         1         113.63          -39.18  ...   Grocery      46-55   \n",
       "\n",
       "  marital_status rented family_size no_of_children  income_bracket  \\\n",
       "0            NaN    0.0           1            NaN             5.0   \n",
       "1            NaN    0.0           1            NaN             5.0   \n",
       "2            NaN    0.0           1            NaN             3.0   \n",
       "3        Married    0.0           3              1             5.0   \n",
       "4        Married    0.0           3              1             5.0   \n",
       "\n",
       "  campaign_type start_date  end_date  \n",
       "0             Y   08/10/12  30/11/12  \n",
       "1             Y   08/10/12  30/11/12  \n",
       "2             X   19/05/13  05/07/13  \n",
       "3             Y   11/03/13  12/04/13  \n",
       "4             Y   11/03/13  12/04/13  \n",
       "\n",
       "[5 rows x 23 columns]"
      ]
     },
     "execution_count": 106,
     "metadata": {},
     "output_type": "execute_result"
    }
   ],
   "source": [
    "train.head()"
   ]
  },
  {
   "cell_type": "code",
   "execution_count": 107,
   "metadata": {},
   "outputs": [
    {
     "name": "stdout",
     "output_type": "stream",
     "text": [
      "(141060, 23)\n",
      "(124628, 22)\n"
     ]
    }
   ],
   "source": [
    "print(train.shape)\n",
    "print(test.shape)"
   ]
  },
  {
   "cell_type": "markdown",
   "metadata": {},
   "source": [
    "### Drop Duplicates"
   ]
  },
  {
   "cell_type": "code",
   "execution_count": 108,
   "metadata": {},
   "outputs": [],
   "source": [
    "train.drop_duplicates(subset=None, inplace=True)"
   ]
  },
  {
   "cell_type": "code",
   "execution_count": 109,
   "metadata": {},
   "outputs": [],
   "source": [
    "test.drop_duplicates(subset=None, inplace=True)"
   ]
  },
  {
   "cell_type": "code",
   "execution_count": 110,
   "metadata": {},
   "outputs": [
    {
     "name": "stdout",
     "output_type": "stream",
     "text": [
      "(139850, 23)\n",
      "(124227, 22)\n"
     ]
    }
   ],
   "source": [
    "print(train.shape)\n",
    "print(test.shape)"
   ]
  },
  {
   "cell_type": "markdown",
   "metadata": {},
   "source": [
    "### Feature campaign_id is LEAKED\n",
    "### train from 1 to 13, also 26, 27, 28, 29 \n",
    "### test from 17 to 25\n",
    "### it does not exist 14, 15, 16\n",
    "### Getting rid of 26 to 29 in train because they represents campaigns in test because of the sequence"
   ]
  },
  {
   "cell_type": "code",
   "execution_count": 111,
   "metadata": {},
   "outputs": [
    {
     "data": {
      "text/plain": [
       "array([29, 13,  9,  5, 10,  8, 30, 12, 11,  3, 26,  4,  6, 28,  7,  1,  2,\n",
       "       27])"
      ]
     },
     "execution_count": 111,
     "metadata": {},
     "output_type": "execute_result"
    }
   ],
   "source": [
    "train.campaign_id.unique()"
   ]
  },
  {
   "cell_type": "code",
   "execution_count": 112,
   "metadata": {},
   "outputs": [
    {
     "data": {
      "text/plain": [
       "array([22, 20, 25, 18, 23, 19, 17, 21, 16, 24])"
      ]
     },
     "execution_count": 112,
     "metadata": {},
     "output_type": "execute_result"
    }
   ],
   "source": [
    "test.campaign_id.unique()"
   ]
  },
  {
   "cell_type": "code",
   "execution_count": 113,
   "metadata": {},
   "outputs": [
    {
     "data": {
      "text/plain": [
       "7699"
      ]
     },
     "execution_count": 113,
     "metadata": {},
     "output_type": "execute_result"
    }
   ],
   "source": [
    "len(train.loc[(train['campaign_id'] == 26) | (train['campaign_id'] == 27) | (train['campaign_id'] == 28) | (train['campaign_id'] == 29)])"
   ]
  },
  {
   "cell_type": "code",
   "execution_count": 114,
   "metadata": {},
   "outputs": [],
   "source": [
    "indexnames = train.loc[(train['campaign_id'] == 26) | (train['campaign_id'] == 27) | (train['campaign_id'] == 28) | (train['campaign_id'] == 29)].index\n",
    "train.drop(indexnames, inplace=True)"
   ]
  },
  {
   "cell_type": "markdown",
   "metadata": {},
   "source": [
    "### coupon_id HAS TO BE DELETED"
   ]
  },
  {
   "cell_type": "code",
   "execution_count": 115,
   "metadata": {},
   "outputs": [
    {
     "name": "stdout",
     "output_type": "stream",
     "text": [
      "4\n",
      "1112\n"
     ]
    }
   ],
   "source": [
    "print(train.coupon_id.min())\n",
    "print(train.coupon_id.max())"
   ]
  },
  {
   "cell_type": "code",
   "execution_count": 116,
   "metadata": {},
   "outputs": [
    {
     "name": "stdout",
     "output_type": "stream",
     "text": [
      "28\n",
      "1116\n"
     ]
    }
   ],
   "source": [
    "print(test.coupon_id.min())\n",
    "print(test.coupon_id.max())"
   ]
  },
  {
   "cell_type": "markdown",
   "metadata": {},
   "source": [
    "### customer_id"
   ]
  },
  {
   "cell_type": "code",
   "execution_count": 117,
   "metadata": {},
   "outputs": [],
   "source": [
    "del train['customer_id']\n",
    "del test['customer_id']"
   ]
  },
  {
   "cell_type": "markdown",
   "metadata": {},
   "source": [
    "### item_id"
   ]
  },
  {
   "cell_type": "code",
   "execution_count": 118,
   "metadata": {},
   "outputs": [],
   "source": [
    "df1 = pd.concat([train.loc[:, 'item_id'], test.loc[:, 'item_id']])\n"
   ]
  },
  {
   "cell_type": "code",
   "execution_count": 119,
   "metadata": {},
   "outputs": [
    {
     "name": "stdout",
     "output_type": "stream",
     "text": [
      "(132151, 22)\n",
      "(124227, 21)\n"
     ]
    }
   ],
   "source": [
    "print(train.shape)\n",
    "print(test.shape)"
   ]
  },
  {
   "cell_type": "code",
   "execution_count": 120,
   "metadata": {},
   "outputs": [
    {
     "data": {
      "text/plain": [
       "(256378,)"
      ]
     },
     "execution_count": 120,
     "metadata": {},
     "output_type": "execute_result"
    }
   ],
   "source": [
    "df1.shape"
   ]
  },
  {
   "cell_type": "code",
   "execution_count": 121,
   "metadata": {},
   "outputs": [],
   "source": [
    "df1.drop_duplicates(keep=False, inplace=True)"
   ]
  },
  {
   "cell_type": "code",
   "execution_count": 122,
   "metadata": {},
   "outputs": [
    {
     "data": {
      "text/plain": [
       "(6068,)"
      ]
     },
     "execution_count": 122,
     "metadata": {},
     "output_type": "execute_result"
    }
   ],
   "source": [
    "df1.shape"
   ]
  },
  {
   "cell_type": "code",
   "execution_count": 123,
   "metadata": {},
   "outputs": [],
   "source": [
    "indexnames = df1.tolist()"
   ]
  },
  {
   "cell_type": "code",
   "execution_count": 124,
   "metadata": {},
   "outputs": [
    {
     "data": {
      "text/plain": [
       "6068"
      ]
     },
     "execution_count": 124,
     "metadata": {},
     "output_type": "execute_result"
    }
   ],
   "source": [
    "len(indexnames)"
   ]
  },
  {
   "cell_type": "code",
   "execution_count": 125,
   "metadata": {},
   "outputs": [],
   "source": [
    "train = train[~train['item_id'].isin(indexnames)]\n",
    "test = test[~test['item_id'].isin(indexnames)]"
   ]
  },
  {
   "cell_type": "code",
   "execution_count": 126,
   "metadata": {},
   "outputs": [
    {
     "name": "stdout",
     "output_type": "stream",
     "text": [
      "(128996, 22)\n",
      "(121314, 21)\n"
     ]
    }
   ],
   "source": [
    "print(train.shape)\n",
    "print(test.shape)"
   ]
  },
  {
   "cell_type": "markdown",
   "metadata": {},
   "source": [
    "### quantity skewed"
   ]
  },
  {
   "cell_type": "code",
   "execution_count": 127,
   "metadata": {},
   "outputs": [
    {
     "data": {
      "text/plain": [
       "count    128996.000000\n",
       "mean          1.329956\n",
       "std           0.875927\n",
       "min           1.000000\n",
       "25%           1.000000\n",
       "50%           1.000000\n",
       "75%           1.000000\n",
       "max          54.000000\n",
       "Name: quantity, dtype: float64"
      ]
     },
     "execution_count": 127,
     "metadata": {},
     "output_type": "execute_result"
    }
   ],
   "source": [
    "train.loc[:, 'quantity'].describe()"
   ]
  },
  {
   "cell_type": "code",
   "execution_count": 128,
   "metadata": {},
   "outputs": [
    {
     "data": {
      "text/plain": [
       "972"
      ]
     },
     "execution_count": 128,
     "metadata": {},
     "output_type": "execute_result"
    }
   ],
   "source": [
    "train[(train['quantity'] > 5)]['id'].count()"
   ]
  },
  {
   "cell_type": "code",
   "execution_count": 129,
   "metadata": {},
   "outputs": [],
   "source": [
    "train.loc[train['quantity'] > 5, 'quantity'] = 5\n",
    "test.loc[test['quantity'] > 5, 'quantity'] = 5"
   ]
  },
  {
   "cell_type": "code",
   "execution_count": 130,
   "metadata": {},
   "outputs": [
    {
     "data": {
      "text/plain": [
       "1    101031\n",
       "2     20973\n",
       "3      3522\n",
       "4      1980\n",
       "5      1490\n",
       "Name: quantity, dtype: int64"
      ]
     },
     "execution_count": 130,
     "metadata": {},
     "output_type": "execute_result"
    }
   ],
   "source": [
    "train.loc[:, 'quantity'].value_counts()"
   ]
  },
  {
   "cell_type": "code",
   "execution_count": 131,
   "metadata": {},
   "outputs": [
    {
     "name": "stderr",
     "output_type": "stream",
     "text": [
      "/Users/ofigue/opt/anaconda3/lib/python3.7/site-packages/seaborn/distributions.py:2557: FutureWarning: `distplot` is a deprecated function and will be removed in a future version. Please adapt your code to use either `displot` (a figure-level function with similar flexibility) or `histplot` (an axes-level function for histograms).\n",
      "  warnings.warn(msg, FutureWarning)\n"
     ]
    },
    {
     "data": {
      "image/png": "[encoded data removed]",
      "text/plain": [
       "<Figure size 576x432 with 1 Axes>"
      ]
     },
     "metadata": {
      "needs_background": "light"
     },
     "output_type": "display_data"
    }
   ],
   "source": [
    "fig = sb.distplot(train.loc[:, 'quantity'])\n",
    "plt.rcParams['figure.figsize']=[8,6]\n",
    "plt.xlabel('quantity')\n",
    "plt.title('Quantity')\n",
    "plt.show(fig)"
   ]
  },
  {
   "cell_type": "markdown",
   "metadata": {},
   "source": [
    "### Selling_price"
   ]
  },
  {
   "cell_type": "code",
   "execution_count": 132,
   "metadata": {},
   "outputs": [
    {
     "data": {
      "text/plain": [
       "count    128996.000000\n",
       "mean        105.780049\n",
       "std          99.622521\n",
       "min           0.710000\n",
       "25%          53.430000\n",
       "50%          85.490000\n",
       "75%         124.310000\n",
       "max        3846.960000\n",
       "Name: selling_price, dtype: float64"
      ]
     },
     "execution_count": 132,
     "metadata": {},
     "output_type": "execute_result"
    }
   ],
   "source": [
    "train.loc[:, 'selling_price'].describe()"
   ]
  },
  {
   "cell_type": "code",
   "execution_count": 133,
   "metadata": {},
   "outputs": [
    {
     "data": {
      "text/plain": [
       "33558"
      ]
     },
     "execution_count": 133,
     "metadata": {},
     "output_type": "execute_result"
    }
   ],
   "source": [
    "train[(train['selling_price'] >= 124)]['id'].count()"
   ]
  },
  {
   "cell_type": "code",
   "execution_count": 134,
   "metadata": {},
   "outputs": [],
   "source": [
    "rm_IQR_outliers(train, 'selling_price')\n",
    "rm_IQR_outliers(test, 'selling_price')\n"
   ]
  },
  {
   "cell_type": "code",
   "execution_count": 135,
   "metadata": {},
   "outputs": [
    {
     "name": "stderr",
     "output_type": "stream",
     "text": [
      "/Users/ofigue/opt/anaconda3/lib/python3.7/site-packages/seaborn/distributions.py:2557: FutureWarning: `distplot` is a deprecated function and will be removed in a future version. Please adapt your code to use either `displot` (a figure-level function with similar flexibility) or `histplot` (an axes-level function for histograms).\n",
      "  warnings.warn(msg, FutureWarning)\n"
     ]
    },
    {
     "data": {
      "image/png": "[encoded data removed]",
      "text/plain": [
       "<Figure size 576x432 with 1 Axes>"
      ]
     },
     "metadata": {
      "needs_background": "light"
     },
     "output_type": "display_data"
    }
   ],
   "source": [
    "fig = sb.distplot(train.loc[:, 'selling_price'])\n",
    "plt.rcParams['figure.figsize']=[8,6]\n",
    "plt.xlabel('Price')\n",
    "plt.title('Selling Price')\n",
    "plt.show(fig)"
   ]
  },
  {
   "cell_type": "markdown",
   "metadata": {},
   "source": [
    "### other_discount"
   ]
  },
  {
   "cell_type": "code",
   "execution_count": 136,
   "metadata": {},
   "outputs": [
    {
     "data": {
      "text/plain": [
       "count    128996.000000\n",
       "mean        -21.943022\n",
       "std          38.064432\n",
       "min        -961.740000\n",
       "25%         -31.700000\n",
       "50%          -7.120000\n",
       "75%           0.000000\n",
       "max           0.000000\n",
       "Name: other_discount, dtype: float64"
      ]
     },
     "execution_count": 136,
     "metadata": {},
     "output_type": "execute_result"
    }
   ],
   "source": [
    "train.loc[:, 'other_discount'].describe()"
   ]
  },
  {
   "cell_type": "code",
   "execution_count": 137,
   "metadata": {},
   "outputs": [
    {
     "name": "stderr",
     "output_type": "stream",
     "text": [
      "/Users/ofigue/opt/anaconda3/lib/python3.7/site-packages/seaborn/distributions.py:2557: FutureWarning: `distplot` is a deprecated function and will be removed in a future version. Please adapt your code to use either `displot` (a figure-level function with similar flexibility) or `histplot` (an axes-level function for histograms).\n",
      "  warnings.warn(msg, FutureWarning)\n"
     ]
    },
    {
     "data": {
      "image/png": "[encoded data removed]",
      "text/plain": [
       "<Figure size 576x432 with 1 Axes>"
      ]
     },
     "metadata": {
      "needs_background": "light"
     },
     "output_type": "display_data"
    }
   ],
   "source": [
    "fig = sb.distplot(train.loc[:, 'other_discount'])\n",
    "plt.rcParams['figure.figsize']=[8,6]\n",
    "plt.xlabel('Discount')\n",
    "plt.title('Other discount')\n",
    "plt.show(fig)"
   ]
  },
  {
   "cell_type": "code",
   "execution_count": 138,
   "metadata": {},
   "outputs": [
    {
     "name": "stderr",
     "output_type": "stream",
     "text": [
      "/Users/ofigue/opt/anaconda3/lib/python3.7/site-packages/pandas/core/arraylike.py:364: RuntimeWarning: divide by zero encountered in log\n",
      "  result = getattr(ufunc, method)(*inputs, **kwargs)\n",
      "/Users/ofigue/opt/anaconda3/lib/python3.7/site-packages/pandas/core/arraylike.py:364: RuntimeWarning: invalid value encountered in log\n",
      "  result = getattr(ufunc, method)(*inputs, **kwargs)\n"
     ]
    }
   ],
   "source": [
    "train.loc[train['other_discount'] > 5, 'other_discount'] = np.log(train.other_discount)\n"
   ]
  },
  {
   "cell_type": "code",
   "execution_count": 139,
   "metadata": {},
   "outputs": [
    {
     "data": {
      "text/plain": [
       "2298"
      ]
     },
     "execution_count": 139,
     "metadata": {},
     "output_type": "execute_result"
    }
   ],
   "source": [
    "train[(train['other_discount'] < -140)]['id'].count()"
   ]
  },
  {
   "cell_type": "code",
   "execution_count": 140,
   "metadata": {},
   "outputs": [],
   "source": [
    "train.loc[train['other_discount'] < -140, 'other_discount'] = -140\n",
    "test.loc[test['other_discount'] < -140, 'other_discount'] = -140"
   ]
  },
  {
   "cell_type": "markdown",
   "metadata": {},
   "source": [
    "### coupon_discount"
   ]
  },
  {
   "cell_type": "code",
   "execution_count": 141,
   "metadata": {},
   "outputs": [
    {
     "data": {
      "text/plain": [
       "count    128996.000000\n",
       "mean         -0.969541\n",
       "std           6.866558\n",
       "min        -534.300000\n",
       "25%           0.000000\n",
       "50%           0.000000\n",
       "75%           0.000000\n",
       "max           0.000000\n",
       "Name: coupon_discount, dtype: float64"
      ]
     },
     "execution_count": 141,
     "metadata": {},
     "output_type": "execute_result"
    }
   ],
   "source": [
    "train.loc[:, 'coupon_discount'].describe()"
   ]
  },
  {
   "cell_type": "code",
   "execution_count": 142,
   "metadata": {},
   "outputs": [],
   "source": [
    "df = train[(train['coupon_discount'] < 0)]"
   ]
  },
  {
   "cell_type": "code",
   "execution_count": 143,
   "metadata": {},
   "outputs": [
    {
     "data": {
      "text/html": [
       "<div>\n",
       "<style scoped>\n",
       "    .dataframe tbody tr th:only-of-type {\n",
       "        vertical-align: middle;\n",
       "    }\n",
       "\n",
       "    .dataframe tbody tr th {\n",
       "        vertical-align: top;\n",
       "    }\n",
       "\n",
       "    .dataframe thead th {\n",
       "        text-align: right;\n",
       "    }\n",
       "</style>\n",
       "<table border=\"1\" class=\"dataframe\">\n",
       "  <thead>\n",
       "    <tr style=\"text-align: right;\">\n",
       "      <th></th>\n",
       "      <th>coupon_discount</th>\n",
       "      <th>redemption_status</th>\n",
       "    </tr>\n",
       "  </thead>\n",
       "  <tbody>\n",
       "    <tr>\n",
       "      <th>19</th>\n",
       "      <td>-35.62</td>\n",
       "      <td>0</td>\n",
       "    </tr>\n",
       "    <tr>\n",
       "      <th>20</th>\n",
       "      <td>-35.62</td>\n",
       "      <td>0</td>\n",
       "    </tr>\n",
       "    <tr>\n",
       "      <th>191</th>\n",
       "      <td>-35.62</td>\n",
       "      <td>1</td>\n",
       "    </tr>\n",
       "    <tr>\n",
       "      <th>435</th>\n",
       "      <td>-35.62</td>\n",
       "      <td>1</td>\n",
       "    </tr>\n",
       "    <tr>\n",
       "      <th>578</th>\n",
       "      <td>-35.62</td>\n",
       "      <td>1</td>\n",
       "    </tr>\n",
       "  </tbody>\n",
       "</table>\n",
       "</div>"
      ],
      "text/plain": [
       "     coupon_discount  redemption_status\n",
       "19            -35.62                  0\n",
       "20            -35.62                  0\n",
       "191           -35.62                  1\n",
       "435           -35.62                  1\n",
       "578           -35.62                  1"
      ]
     },
     "execution_count": 143,
     "metadata": {},
     "output_type": "execute_result"
    }
   ],
   "source": [
    "df.loc[:, ('coupon_discount', 'redemption_status')].head()"
   ]
  },
  {
   "cell_type": "code",
   "execution_count": 144,
   "metadata": {},
   "outputs": [],
   "source": [
    "# Coupon discount: 97% zeroes\n",
    "del train['coupon_discount']\n",
    "del test['coupon_discount']"
   ]
  },
  {
   "cell_type": "markdown",
   "metadata": {},
   "source": [
    "### Brand"
   ]
  },
  {
   "cell_type": "code",
   "execution_count": 145,
   "metadata": {},
   "outputs": [
    {
     "data": {
      "text/plain": [
       "2    1639\n",
       "3     714\n",
       "4     714\n",
       "5     714\n",
       "6     714\n",
       "Name: brand, dtype: int64"
      ]
     },
     "execution_count": 145,
     "metadata": {},
     "output_type": "execute_result"
    }
   ],
   "source": [
    "train.loc[:, 'brand'].head()"
   ]
  },
  {
   "cell_type": "code",
   "execution_count": 146,
   "metadata": {},
   "outputs": [
    {
     "name": "stderr",
     "output_type": "stream",
     "text": [
      "/Users/ofigue/opt/anaconda3/lib/python3.7/site-packages/seaborn/distributions.py:2557: FutureWarning: `distplot` is a deprecated function and will be removed in a future version. Please adapt your code to use either `displot` (a figure-level function with similar flexibility) or `histplot` (an axes-level function for histograms).\n",
      "  warnings.warn(msg, FutureWarning)\n"
     ]
    },
    {
     "data": {
      "image/png": "[encoded data removed]",
      "text/plain": [
       "<Figure size 576x432 with 1 Axes>"
      ]
     },
     "metadata": {
      "needs_background": "light"
     },
     "output_type": "display_data"
    }
   ],
   "source": [
    "fig = sb.distplot(train.loc[:, 'brand'])\n",
    "plt.rcParams['figure.figsize']=[8,6]\n",
    "plt.xlabel('Brand')\n",
    "plt.title('Brand')\n",
    "plt.show(fig)"
   ]
  },
  {
   "cell_type": "code",
   "execution_count": 147,
   "metadata": {},
   "outputs": [
    {
     "data": {
      "text/plain": [
       "56      31419\n",
       "714      3739\n",
       "158      3719\n",
       "1337     3645\n",
       "278      3500\n",
       "        ...  \n",
       "525         1\n",
       "5187        1\n",
       "2565        1\n",
       "168         1\n",
       "2798        1\n",
       "Name: brand, Length: 1061, dtype: int64"
      ]
     },
     "execution_count": 147,
     "metadata": {},
     "output_type": "execute_result"
    }
   ],
   "source": [
    "train.loc[:, 'brand'].value_counts()"
   ]
  },
  {
   "cell_type": "markdown",
   "metadata": {},
   "source": [
    "### Brand type"
   ]
  },
  {
   "cell_type": "code",
   "execution_count": 148,
   "metadata": {},
   "outputs": [
    {
     "data": {
      "text/plain": [
       "Established    97418\n",
       "Local          31578\n",
       "Name: brand_type, dtype: int64"
      ]
     },
     "execution_count": 148,
     "metadata": {},
     "output_type": "execute_result"
    }
   ],
   "source": [
    "train.loc[:, 'brand_type'].value_counts()"
   ]
  },
  {
   "cell_type": "code",
   "execution_count": 149,
   "metadata": {},
   "outputs": [
    {
     "data": {
      "text/plain": [
       "Established    99792\n",
       "Local          21522\n",
       "Name: brand_type, dtype: int64"
      ]
     },
     "execution_count": 149,
     "metadata": {},
     "output_type": "execute_result"
    }
   ],
   "source": [
    "test.loc[:, 'brand_type'].value_counts()"
   ]
  },
  {
   "cell_type": "markdown",
   "metadata": {},
   "source": [
    "### Age range with missing"
   ]
  },
  {
   "cell_type": "code",
   "execution_count": 150,
   "metadata": {},
   "outputs": [
    {
     "data": {
      "text/plain": [
       "<AxesSubplot:>"
      ]
     },
     "execution_count": 150,
     "metadata": {},
     "output_type": "execute_result"
    },
    {
     "data": {
      "image/png": "[encoded data removed]",
      "text/plain": [
       "<Figure size 1800x720 with 2 Axes>"
      ]
     },
     "metadata": {
      "needs_background": "light"
     },
     "output_type": "display_data"
    }
   ],
   "source": [
    "msno.matrix(train)"
   ]
  },
  {
   "cell_type": "code",
   "execution_count": 151,
   "metadata": {},
   "outputs": [
    {
     "data": {
      "text/plain": [
       "<AxesSubplot:>"
      ]
     },
     "execution_count": 151,
     "metadata": {},
     "output_type": "execute_result"
    },
    {
     "data": {
      "image/png": "[encoded data removed]",
      "text/plain": [
       "<Figure size 1800x720 with 2 Axes>"
      ]
     },
     "metadata": {
      "needs_background": "light"
     },
     "output_type": "display_data"
    }
   ],
   "source": [
    "msno.matrix(test)"
   ]
  },
  {
   "cell_type": "code",
   "execution_count": 152,
   "metadata": {},
   "outputs": [
    {
     "data": {
      "text/plain": [
       "NaN      42550\n",
       "46-55    27922\n",
       "36-45    24624\n",
       "26-35    18024\n",
       "56-70     6034\n",
       "70+       5481\n",
       "18-25     4361\n",
       "Name: age_range, dtype: int64"
      ]
     },
     "execution_count": 152,
     "metadata": {},
     "output_type": "execute_result"
    }
   ],
   "source": [
    "train.loc[:, 'age_range'].value_counts(dropna=False)"
   ]
  },
  {
   "cell_type": "code",
   "execution_count": 153,
   "metadata": {},
   "outputs": [],
   "source": [
    "train['age_range'].fillna('46-55', inplace=True)\n",
    "test['age_range'].fillna('46-55', inplace=True)"
   ]
  },
  {
   "cell_type": "markdown",
   "metadata": {},
   "source": [
    "### Marital Status"
   ]
  },
  {
   "cell_type": "code",
   "execution_count": 154,
   "metadata": {},
   "outputs": [],
   "source": [
    "del train['marital_status']\n",
    "del test['marital_status']"
   ]
  },
  {
   "cell_type": "markdown",
   "metadata": {},
   "source": [
    "### rented"
   ]
  },
  {
   "cell_type": "code",
   "execution_count": 155,
   "metadata": {},
   "outputs": [
    {
     "data": {
      "text/plain": [
       "0.0    81619\n",
       "NaN    42550\n",
       "1.0     4827\n",
       "Name: rented, dtype: int64"
      ]
     },
     "execution_count": 155,
     "metadata": {},
     "output_type": "execute_result"
    }
   ],
   "source": [
    "train.loc[:, 'rented'].value_counts(dropna=False)"
   ]
  },
  {
   "cell_type": "code",
   "execution_count": 156,
   "metadata": {},
   "outputs": [],
   "source": [
    "train['rented'].fillna(0, inplace=True)\n",
    "test['rented'].fillna(0, inplace=True)\n"
   ]
  },
  {
   "cell_type": "markdown",
   "metadata": {},
   "source": [
    "### family_size"
   ]
  },
  {
   "cell_type": "code",
   "execution_count": 157,
   "metadata": {},
   "outputs": [
    {
     "data": {
      "text/plain": [
       "NaN    42550\n",
       "2      32588\n",
       "1      24679\n",
       "3      13039\n",
       "4       8262\n",
       "5+      7878\n",
       "Name: family_size, dtype: int64"
      ]
     },
     "execution_count": 157,
     "metadata": {},
     "output_type": "execute_result"
    }
   ],
   "source": [
    "train.loc[:, 'family_size'].value_counts(dropna=False)"
   ]
  },
  {
   "cell_type": "code",
   "execution_count": 158,
   "metadata": {},
   "outputs": [],
   "source": [
    "train['family_size'].fillna(2, inplace=True)\n",
    "test['family_size'].fillna(2, inplace=True)\n"
   ]
  },
  {
   "cell_type": "markdown",
   "metadata": {},
   "source": [
    "### no_of_children"
   ]
  },
  {
   "cell_type": "code",
   "execution_count": 159,
   "metadata": {},
   "outputs": [],
   "source": [
    "del train['no_of_children']\n",
    "del test['no_of_children']"
   ]
  },
  {
   "cell_type": "markdown",
   "metadata": {},
   "source": [
    "### income_bracket"
   ]
  },
  {
   "cell_type": "code",
   "execution_count": 160,
   "metadata": {},
   "outputs": [
    {
     "name": "stderr",
     "output_type": "stream",
     "text": [
      "/Users/ofigue/opt/anaconda3/lib/python3.7/site-packages/seaborn/distributions.py:2557: FutureWarning: `distplot` is a deprecated function and will be removed in a future version. Please adapt your code to use either `displot` (a figure-level function with similar flexibility) or `histplot` (an axes-level function for histograms).\n",
      "  warnings.warn(msg, FutureWarning)\n"
     ]
    },
    {
     "data": {
      "image/png": "[encoded data removed]",
      "text/plain": [
       "<Figure size 576x432 with 1 Axes>"
      ]
     },
     "metadata": {
      "needs_background": "light"
     },
     "output_type": "display_data"
    }
   ],
   "source": [
    "fig = sb.distplot(train.loc[:, 'income_bracket'])\n",
    "plt.rcParams['figure.figsize']=[8,6]\n",
    "plt.xlabel('Brand')\n",
    "plt.title('Brand')\n",
    "plt.show(fig)"
   ]
  },
  {
   "cell_type": "code",
   "execution_count": 161,
   "metadata": {},
   "outputs": [
    {
     "name": "stderr",
     "output_type": "stream",
     "text": [
      "/Users/ofigue/opt/anaconda3/lib/python3.7/site-packages/seaborn/distributions.py:2557: FutureWarning: `distplot` is a deprecated function and will be removed in a future version. Please adapt your code to use either `displot` (a figure-level function with similar flexibility) or `histplot` (an axes-level function for histograms).\n",
      "  warnings.warn(msg, FutureWarning)\n"
     ]
    },
    {
     "data": {
      "image/png": "[encoded data removed]",
      "text/plain": [
       "<Figure size 576x432 with 1 Axes>"
      ]
     },
     "metadata": {
      "needs_background": "light"
     },
     "output_type": "display_data"
    }
   ],
   "source": [
    "fig = sb.distplot(test.loc[:, 'income_bracket'])\n",
    "plt.rcParams['figure.figsize']=[8,6]\n",
    "plt.xlabel('Brand')\n",
    "plt.title('Brand')\n",
    "plt.show(fig)"
   ]
  },
  {
   "cell_type": "code",
   "execution_count": 162,
   "metadata": {},
   "outputs": [],
   "source": [
    "mean_value = train['income_bracket'].mean()\n",
    "train['income_bracket'] = train['income_bracket'].fillna(mean_value)\n",
    "mean_value = test['income_bracket'].mean()\n",
    "test['income_bracket'] = test['income_bracket'].fillna(mean_value)"
   ]
  },
  {
   "cell_type": "markdown",
   "metadata": {},
   "source": [
    "### campaign_type"
   ]
  },
  {
   "cell_type": "code",
   "execution_count": 163,
   "metadata": {},
   "outputs": [
    {
     "data": {
      "text/plain": [
       "X    107114\n",
       "Y     21882\n",
       "Name: campaign_type, dtype: int64"
      ]
     },
     "execution_count": 163,
     "metadata": {},
     "output_type": "execute_result"
    }
   ],
   "source": [
    "train.loc[:, 'campaign_type'].value_counts()"
   ]
  },
  {
   "cell_type": "markdown",
   "metadata": {},
   "source": [
    "### Convert dates"
   ]
  },
  {
   "cell_type": "code",
   "execution_count": 164,
   "metadata": {},
   "outputs": [],
   "source": [
    "train['date_tr'] = pd.to_datetime(train.date, format='%Y-%m-%d')\n",
    "test['date_tr'] = pd.to_datetime(test.date, format='%Y-%m-%d')\n",
    "\n",
    "train['beginDate'] = pd.to_datetime(train.start_date, format='%d/%m/%y')\n",
    "test['beginDate'] = pd.to_datetime(test.start_date, format='%d/%m/%y')\n",
    "\n",
    "train['endDate'] = pd.to_datetime(train.end_date, format='%d/%m/%y')\n",
    "test['endDate'] = pd.to_datetime(test.end_date, format='%d/%m/%y')\n"
   ]
  },
  {
   "cell_type": "code",
   "execution_count": 165,
   "metadata": {},
   "outputs": [
    {
     "data": {
      "text/html": [
       "<div>\n",
       "<style scoped>\n",
       "    .dataframe tbody tr th:only-of-type {\n",
       "        vertical-align: middle;\n",
       "    }\n",
       "\n",
       "    .dataframe tbody tr th {\n",
       "        vertical-align: top;\n",
       "    }\n",
       "\n",
       "    .dataframe thead th {\n",
       "        text-align: right;\n",
       "    }\n",
       "</style>\n",
       "<table border=\"1\" class=\"dataframe\">\n",
       "  <thead>\n",
       "    <tr style=\"text-align: right;\">\n",
       "      <th></th>\n",
       "      <th>endDate</th>\n",
       "      <th>beginDate</th>\n",
       "    </tr>\n",
       "  </thead>\n",
       "  <tbody>\n",
       "    <tr>\n",
       "      <th>3</th>\n",
       "      <td>2013-04-12</td>\n",
       "      <td>2013-03-11</td>\n",
       "    </tr>\n",
       "    <tr>\n",
       "      <th>4</th>\n",
       "      <td>2013-04-12</td>\n",
       "      <td>2013-03-11</td>\n",
       "    </tr>\n",
       "    <tr>\n",
       "      <th>5</th>\n",
       "      <td>2013-04-12</td>\n",
       "      <td>2013-03-11</td>\n",
       "    </tr>\n",
       "  </tbody>\n",
       "</table>\n",
       "</div>"
      ],
      "text/plain": [
       "     endDate  beginDate\n",
       "3 2013-04-12 2013-03-11\n",
       "4 2013-04-12 2013-03-11\n",
       "5 2013-04-12 2013-03-11"
      ]
     },
     "execution_count": 165,
     "metadata": {},
     "output_type": "execute_result"
    }
   ],
   "source": [
    "train.loc[(train.id == 22)][['endDate', 'beginDate']]"
   ]
  },
  {
   "cell_type": "code",
   "execution_count": 166,
   "metadata": {},
   "outputs": [],
   "source": [
    "train['daysCampaign'] = (train.loc[:, 'endDate'] - train.loc[:, 'beginDate']).dt.days\n",
    "test['daysCampaign'] = (test.loc[:, 'endDate'] - test.loc[:, 'beginDate']).dt.days"
   ]
  },
  {
   "cell_type": "code",
   "execution_count": 167,
   "metadata": {},
   "outputs": [
    {
     "data": {
      "text/html": [
       "<div>\n",
       "<style scoped>\n",
       "    .dataframe tbody tr th:only-of-type {\n",
       "        vertical-align: middle;\n",
       "    }\n",
       "\n",
       "    .dataframe tbody tr th {\n",
       "        vertical-align: top;\n",
       "    }\n",
       "\n",
       "    .dataframe thead th {\n",
       "        text-align: right;\n",
       "    }\n",
       "</style>\n",
       "<table border=\"1\" class=\"dataframe\">\n",
       "  <thead>\n",
       "    <tr style=\"text-align: right;\">\n",
       "      <th></th>\n",
       "      <th>endDate</th>\n",
       "      <th>beginDate</th>\n",
       "    </tr>\n",
       "  </thead>\n",
       "  <tbody>\n",
       "    <tr>\n",
       "      <th>0</th>\n",
       "      <td>2013-10-18</td>\n",
       "      <td>2013-09-16</td>\n",
       "    </tr>\n",
       "    <tr>\n",
       "      <th>1</th>\n",
       "      <td>2013-10-18</td>\n",
       "      <td>2013-09-16</td>\n",
       "    </tr>\n",
       "    <tr>\n",
       "      <th>2</th>\n",
       "      <td>2013-10-18</td>\n",
       "      <td>2013-09-16</td>\n",
       "    </tr>\n",
       "    <tr>\n",
       "      <th>3</th>\n",
       "      <td>2013-10-18</td>\n",
       "      <td>2013-09-16</td>\n",
       "    </tr>\n",
       "    <tr>\n",
       "      <th>4</th>\n",
       "      <td>2013-10-18</td>\n",
       "      <td>2013-09-16</td>\n",
       "    </tr>\n",
       "    <tr>\n",
       "      <th>5</th>\n",
       "      <td>2013-10-18</td>\n",
       "      <td>2013-09-16</td>\n",
       "    </tr>\n",
       "    <tr>\n",
       "      <th>6</th>\n",
       "      <td>2013-10-18</td>\n",
       "      <td>2013-09-16</td>\n",
       "    </tr>\n",
       "    <tr>\n",
       "      <th>7</th>\n",
       "      <td>2013-10-18</td>\n",
       "      <td>2013-09-16</td>\n",
       "    </tr>\n",
       "    <tr>\n",
       "      <th>8</th>\n",
       "      <td>2013-10-18</td>\n",
       "      <td>2013-09-16</td>\n",
       "    </tr>\n",
       "    <tr>\n",
       "      <th>9</th>\n",
       "      <td>2013-10-18</td>\n",
       "      <td>2013-09-16</td>\n",
       "    </tr>\n",
       "    <tr>\n",
       "      <th>10</th>\n",
       "      <td>2013-10-18</td>\n",
       "      <td>2013-09-16</td>\n",
       "    </tr>\n",
       "    <tr>\n",
       "      <th>11</th>\n",
       "      <td>2013-10-18</td>\n",
       "      <td>2013-09-16</td>\n",
       "    </tr>\n",
       "    <tr>\n",
       "      <th>12</th>\n",
       "      <td>2013-10-18</td>\n",
       "      <td>2013-09-16</td>\n",
       "    </tr>\n",
       "    <tr>\n",
       "      <th>13</th>\n",
       "      <td>2013-10-18</td>\n",
       "      <td>2013-09-16</td>\n",
       "    </tr>\n",
       "    <tr>\n",
       "      <th>14</th>\n",
       "      <td>2013-10-18</td>\n",
       "      <td>2013-09-16</td>\n",
       "    </tr>\n",
       "  </tbody>\n",
       "</table>\n",
       "</div>"
      ],
      "text/plain": [
       "      endDate  beginDate\n",
       "0  2013-10-18 2013-09-16\n",
       "1  2013-10-18 2013-09-16\n",
       "2  2013-10-18 2013-09-16\n",
       "3  2013-10-18 2013-09-16\n",
       "4  2013-10-18 2013-09-16\n",
       "5  2013-10-18 2013-09-16\n",
       "6  2013-10-18 2013-09-16\n",
       "7  2013-10-18 2013-09-16\n",
       "8  2013-10-18 2013-09-16\n",
       "9  2013-10-18 2013-09-16\n",
       "10 2013-10-18 2013-09-16\n",
       "11 2013-10-18 2013-09-16\n",
       "12 2013-10-18 2013-09-16\n",
       "13 2013-10-18 2013-09-16\n",
       "14 2013-10-18 2013-09-16"
      ]
     },
     "execution_count": 167,
     "metadata": {},
     "output_type": "execute_result"
    }
   ],
   "source": [
    "test.loc[(test.id == 3)][['endDate', 'beginDate']]"
   ]
  },
  {
   "cell_type": "code",
   "execution_count": 168,
   "metadata": {},
   "outputs": [],
   "source": [
    "train['daysCampaign'] = (train.loc[:, 'endDate'] - train.loc[:, 'beginDate']).dt.days\n",
    "test['daysCampaign'] = (test.loc[:, 'endDate'] - test.loc[:, 'beginDate']).dt.days"
   ]
  },
  {
   "cell_type": "markdown",
   "metadata": {},
   "source": [
    "### campaign_id correlated to start_date and end_date, both deleted campaign_id preferred"
   ]
  },
  {
   "cell_type": "code",
   "execution_count": 169,
   "metadata": {},
   "outputs": [],
   "source": [
    "del train['start_date']\n",
    "del train['end_date']\n",
    "del test['start_date']\n",
    "del test['end_date']"
   ]
  },
  {
   "cell_type": "markdown",
   "metadata": {},
   "source": [
    "### Date processing"
   ]
  },
  {
   "cell_type": "code",
   "execution_count": 170,
   "metadata": {},
   "outputs": [],
   "source": [
    "train['month'] = pd.DatetimeIndex(train['date']).month\n",
    "train['day'] = pd.DatetimeIndex(train['date']).day\n",
    "\n",
    "test['month'] = pd.DatetimeIndex(test['date']).month\n",
    "test['day'] = pd.DatetimeIndex(test['date']).day\n",
    "\n",
    "del train['date']\n",
    "del train['beginDate']\n",
    "del train['endDate']\n",
    "del train['date_tr']\n",
    "\n",
    "del test['date']\n",
    "del test['beginDate']\n",
    "del test['endDate']\n",
    "del test['date_tr']\n"
   ]
  },
  {
   "cell_type": "code",
   "execution_count": 171,
   "metadata": {},
   "outputs": [
    {
     "name": "stdout",
     "output_type": "stream",
     "text": [
      "<class 'pandas.core.frame.DataFrame'>\n",
      "Int64Index: 128996 entries, 2 to 141059\n",
      "Data columns (total 19 columns):\n",
      " #   Column             Non-Null Count   Dtype  \n",
      "---  ------             --------------   -----  \n",
      " 0   id                 128996 non-null  int64  \n",
      " 1   campaign_id        128996 non-null  int64  \n",
      " 2   coupon_id          128996 non-null  int64  \n",
      " 3   redemption_status  128996 non-null  int64  \n",
      " 4   item_id            128996 non-null  int64  \n",
      " 5   quantity           128996 non-null  int64  \n",
      " 6   selling_price      128996 non-null  float64\n",
      " 7   other_discount     128996 non-null  float64\n",
      " 8   brand              128996 non-null  int64  \n",
      " 9   brand_type         128996 non-null  object \n",
      " 10  category           128996 non-null  object \n",
      " 11  age_range          128996 non-null  object \n",
      " 12  rented             128996 non-null  float64\n",
      " 13  family_size        128996 non-null  object \n",
      " 14  income_bracket     128996 non-null  float64\n",
      " 15  campaign_type      128996 non-null  object \n",
      " 16  daysCampaign       128996 non-null  int64  \n",
      " 17  month              128996 non-null  int64  \n",
      " 18  day                128996 non-null  int64  \n",
      "dtypes: float64(4), int64(10), object(5)\n",
      "memory usage: 19.7+ MB\n"
     ]
    }
   ],
   "source": [
    "train.info()"
   ]
  },
  {
   "cell_type": "markdown",
   "metadata": {},
   "source": [
    "### Because of the correlation matrix, the following features are removed"
   ]
  },
  {
   "cell_type": "code",
   "execution_count": 172,
   "metadata": {},
   "outputs": [],
   "source": [
    "del train['coupon_id']\n",
    "del train['age_range']\n",
    "del train['family_size']\n",
    "\n",
    "del test['coupon_id']\n",
    "del test['age_range']\n",
    "del test['family_size']"
   ]
  },
  {
   "cell_type": "code",
   "execution_count": 173,
   "metadata": {},
   "outputs": [
    {
     "name": "stdout",
     "output_type": "stream",
     "text": [
      "(128996, 16)\n",
      "(121314, 15)\n"
     ]
    }
   ],
   "source": [
    "print(train.shape)\n",
    "print(test.shape)"
   ]
  },
  {
   "cell_type": "code",
   "execution_count": 174,
   "metadata": {},
   "outputs": [
    {
     "data": {
      "text/html": [
       "<div>\n",
       "<style scoped>\n",
       "    .dataframe tbody tr th:only-of-type {\n",
       "        vertical-align: middle;\n",
       "    }\n",
       "\n",
       "    .dataframe tbody tr th {\n",
       "        vertical-align: top;\n",
       "    }\n",
       "\n",
       "    .dataframe thead th {\n",
       "        text-align: right;\n",
       "    }\n",
       "</style>\n",
       "<table border=\"1\" class=\"dataframe\">\n",
       "  <thead>\n",
       "    <tr style=\"text-align: right;\">\n",
       "      <th></th>\n",
       "      <th>id</th>\n",
       "      <th>campaign_id</th>\n",
       "      <th>redemption_status</th>\n",
       "      <th>item_id</th>\n",
       "      <th>quantity</th>\n",
       "      <th>selling_price</th>\n",
       "      <th>other_discount</th>\n",
       "      <th>brand</th>\n",
       "      <th>brand_type</th>\n",
       "      <th>category</th>\n",
       "      <th>rented</th>\n",
       "      <th>income_bracket</th>\n",
       "      <th>campaign_type</th>\n",
       "      <th>daysCampaign</th>\n",
       "      <th>month</th>\n",
       "      <th>day</th>\n",
       "    </tr>\n",
       "  </thead>\n",
       "  <tbody>\n",
       "    <tr>\n",
       "      <th>2</th>\n",
       "      <td>21</td>\n",
       "      <td>13</td>\n",
       "      <td>0</td>\n",
       "      <td>52056</td>\n",
       "      <td>1</td>\n",
       "      <td>71.24</td>\n",
       "      <td>-28.14</td>\n",
       "      <td>1639</td>\n",
       "      <td>Established</td>\n",
       "      <td>Grocery</td>\n",
       "      <td>0.0</td>\n",
       "      <td>3.0</td>\n",
       "      <td>X</td>\n",
       "      <td>47</td>\n",
       "      <td>6</td>\n",
       "      <td>24</td>\n",
       "    </tr>\n",
       "    <tr>\n",
       "      <th>3</th>\n",
       "      <td>22</td>\n",
       "      <td>9</td>\n",
       "      <td>0</td>\n",
       "      <td>4904</td>\n",
       "      <td>1</td>\n",
       "      <td>113.63</td>\n",
       "      <td>-39.18</td>\n",
       "      <td>714</td>\n",
       "      <td>Established</td>\n",
       "      <td>Grocery</td>\n",
       "      <td>0.0</td>\n",
       "      <td>5.0</td>\n",
       "      <td>Y</td>\n",
       "      <td>32</td>\n",
       "      <td>6</td>\n",
       "      <td>11</td>\n",
       "    </tr>\n",
       "    <tr>\n",
       "      <th>4</th>\n",
       "      <td>22</td>\n",
       "      <td>9</td>\n",
       "      <td>0</td>\n",
       "      <td>4904</td>\n",
       "      <td>1</td>\n",
       "      <td>113.63</td>\n",
       "      <td>-39.18</td>\n",
       "      <td>714</td>\n",
       "      <td>Established</td>\n",
       "      <td>Grocery</td>\n",
       "      <td>0.0</td>\n",
       "      <td>5.0</td>\n",
       "      <td>Y</td>\n",
       "      <td>32</td>\n",
       "      <td>6</td>\n",
       "      <td>20</td>\n",
       "    </tr>\n",
       "    <tr>\n",
       "      <th>5</th>\n",
       "      <td>22</td>\n",
       "      <td>9</td>\n",
       "      <td>0</td>\n",
       "      <td>30345</td>\n",
       "      <td>2</td>\n",
       "      <td>178.10</td>\n",
       "      <td>-54.85</td>\n",
       "      <td>714</td>\n",
       "      <td>Established</td>\n",
       "      <td>Grocery</td>\n",
       "      <td>0.0</td>\n",
       "      <td>5.0</td>\n",
       "      <td>Y</td>\n",
       "      <td>32</td>\n",
       "      <td>3</td>\n",
       "      <td>10</td>\n",
       "    </tr>\n",
       "    <tr>\n",
       "      <th>6</th>\n",
       "      <td>19636</td>\n",
       "      <td>13</td>\n",
       "      <td>0</td>\n",
       "      <td>4904</td>\n",
       "      <td>1</td>\n",
       "      <td>113.63</td>\n",
       "      <td>-39.18</td>\n",
       "      <td>714</td>\n",
       "      <td>Established</td>\n",
       "      <td>Grocery</td>\n",
       "      <td>0.0</td>\n",
       "      <td>5.0</td>\n",
       "      <td>X</td>\n",
       "      <td>47</td>\n",
       "      <td>6</td>\n",
       "      <td>11</td>\n",
       "    </tr>\n",
       "  </tbody>\n",
       "</table>\n",
       "</div>"
      ],
      "text/plain": [
       "      id  campaign_id  redemption_status  item_id  quantity  selling_price  \\\n",
       "2     21           13                  0    52056         1          71.24   \n",
       "3     22            9                  0     4904         1         113.63   \n",
       "4     22            9                  0     4904         1         113.63   \n",
       "5     22            9                  0    30345         2         178.10   \n",
       "6  19636           13                  0     4904         1         113.63   \n",
       "\n",
       "   other_discount  brand   brand_type category  rented  income_bracket  \\\n",
       "2          -28.14   1639  Established  Grocery     0.0             3.0   \n",
       "3          -39.18    714  Established  Grocery     0.0             5.0   \n",
       "4          -39.18    714  Established  Grocery     0.0             5.0   \n",
       "5          -54.85    714  Established  Grocery     0.0             5.0   \n",
       "6          -39.18    714  Established  Grocery     0.0             5.0   \n",
       "\n",
       "  campaign_type  daysCampaign  month  day  \n",
       "2             X            47      6   24  \n",
       "3             Y            32      6   11  \n",
       "4             Y            32      6   20  \n",
       "5             Y            32      3   10  \n",
       "6             X            47      6   11  "
      ]
     },
     "execution_count": 174,
     "metadata": {},
     "output_type": "execute_result"
    }
   ],
   "source": [
    "train.head()"
   ]
  },
  {
   "cell_type": "markdown",
   "metadata": {},
   "source": [
    "### Some final processing"
   ]
  },
  {
   "cell_type": "code",
   "execution_count": 175,
   "metadata": {},
   "outputs": [],
   "source": [
    "del train['id']\n",
    "del test['id']"
   ]
  },
  {
   "cell_type": "code",
   "execution_count": 176,
   "metadata": {},
   "outputs": [],
   "source": [
    "train['price'] = train.loc[:, 'selling_price'] + train.loc[:, 'other_discount']\n",
    "test['price'] = test.loc[:, 'selling_price'] + test.loc[:, 'other_discount']"
   ]
  },
  {
   "cell_type": "code",
   "execution_count": 177,
   "metadata": {},
   "outputs": [
    {
     "name": "stdout",
     "output_type": "stream",
     "text": [
      "<class 'pandas.core.frame.DataFrame'>\n",
      "Int64Index: 128996 entries, 2 to 141059\n",
      "Data columns (total 16 columns):\n",
      " #   Column             Non-Null Count   Dtype  \n",
      "---  ------             --------------   -----  \n",
      " 0   campaign_id        128996 non-null  int64  \n",
      " 1   redemption_status  128996 non-null  int64  \n",
      " 2   item_id            128996 non-null  int64  \n",
      " 3   quantity           128996 non-null  int64  \n",
      " 4   selling_price      128996 non-null  float64\n",
      " 5   other_discount     128996 non-null  float64\n",
      " 6   brand              128996 non-null  int64  \n",
      " 7   brand_type         128996 non-null  object \n",
      " 8   category           128996 non-null  object \n",
      " 9   rented             128996 non-null  float64\n",
      " 10  income_bracket     128996 non-null  float64\n",
      " 11  campaign_type      128996 non-null  object \n",
      " 12  daysCampaign       128996 non-null  int64  \n",
      " 13  month              128996 non-null  int64  \n",
      " 14  day                128996 non-null  int64  \n",
      " 15  price              128996 non-null  float64\n",
      "dtypes: float64(5), int64(8), object(3)\n",
      "memory usage: 16.7+ MB\n"
     ]
    }
   ],
   "source": [
    "train.info()"
   ]
  },
  {
   "cell_type": "markdown",
   "metadata": {},
   "source": [
    "### Standardize"
   ]
  },
  {
   "cell_type": "code",
   "execution_count": 178,
   "metadata": {},
   "outputs": [],
   "source": [
    "scaler = preprocessing.StandardScaler()\n",
    "\n",
    "names = ['campaign_id', 'item_id', 'selling_price', 'other_discount', 'price', 'brand', 'income_bracket', 'daysCampaign', 'month', 'day']\n",
    "scaled_train = scaler.fit_transform(train[names])\n",
    "scaled_train = pd.DataFrame(scaled_train, columns=names)\n",
    "\n",
    "names = ['campaign_id', 'item_id', 'selling_price', 'other_discount', 'price', 'brand', 'income_bracket', 'daysCampaign', 'month', 'day']\n",
    "scaled_test = scaler.fit_transform(test[names])\n",
    "scaled_test = pd.DataFrame(scaled_test, columns=names)"
   ]
  },
  {
   "cell_type": "markdown",
   "metadata": {},
   "source": [
    "### One_hot encoding"
   ]
  },
  {
   "cell_type": "code",
   "execution_count": 179,
   "metadata": {},
   "outputs": [
    {
     "data": {
      "text/plain": [
       "Grocery                   85654\n",
       "Pharmaceutical            15701\n",
       "Packaged Meat             12290\n",
       "Natural Products           7435\n",
       "Meat                       3829\n",
       "Dairy, Juices & Snacks     1682\n",
       "Seafood                    1566\n",
       "Skin & Hair Care            263\n",
       "Prepared Food               198\n",
       "Flowers & Plants            125\n",
       "Garden                       75\n",
       "Miscellaneous                47\n",
       "Bakery                       46\n",
       "Salads                       42\n",
       "Travel                       38\n",
       "Vegetables (cut)              5\n",
       "Name: category, dtype: int64"
      ]
     },
     "execution_count": 179,
     "metadata": {},
     "output_type": "execute_result"
    }
   ],
   "source": [
    "train.loc[:, 'category'].value_counts()"
   ]
  },
  {
   "cell_type": "code",
   "execution_count": 180,
   "metadata": {},
   "outputs": [
    {
     "name": "stderr",
     "output_type": "stream",
     "text": [
      "/Users/ofigue/opt/anaconda3/lib/python3.7/site-packages/ipykernel_launcher.py:1: FutureWarning: The default value of regex will change from True to False in a future version.\n",
      "  \"\"\"Entry point for launching an IPython kernel.\n",
      "/Users/ofigue/opt/anaconda3/lib/python3.7/site-packages/ipykernel_launcher.py:6: FutureWarning: The default value of regex will change from True to False in a future version.\n",
      "  \n"
     ]
    }
   ],
   "source": [
    "train['category'] = train['category'].str.replace(' \\(cut\\)', '')\n",
    "train['category'] = train['category'].str.replace(' & ', '_')\n",
    "train['category'] = train['category'].str.replace(' ', '_')\n",
    "train['category'] = train['category'].str.replace(',_', '_')\n",
    "\n",
    "test['category'] = test['category'].str.replace(' \\(cut\\)', '')\n",
    "test['category'] = test['category'].str.replace(' & ', '_')\n",
    "test['category'] = test['category'].str.replace(' ', '_')\n",
    "test['category'] = test['category'].str.replace(',_', '_')\n"
   ]
  },
  {
   "cell_type": "code",
   "execution_count": 181,
   "metadata": {},
   "outputs": [
    {
     "data": {
      "text/plain": [
       "Grocery                85654\n",
       "Pharmaceutical         15701\n",
       "Packaged_Meat          12290\n",
       "Natural_Products        7435\n",
       "Meat                    3829\n",
       "Dairy_Juices_Snacks     1682\n",
       "Seafood                 1566\n",
       "Skin_Hair_Care           263\n",
       "Prepared_Food            198\n",
       "Flowers_Plants           125\n",
       "Garden                    75\n",
       "Miscellaneous             47\n",
       "Bakery                    46\n",
       "Salads                    42\n",
       "Travel                    38\n",
       "Vegetables                 5\n",
       "Name: category, dtype: int64"
      ]
     },
     "execution_count": 181,
     "metadata": {},
     "output_type": "execute_result"
    }
   ],
   "source": [
    "train.loc[:, 'category'].value_counts()"
   ]
  },
  {
   "cell_type": "code",
   "execution_count": 182,
   "metadata": {},
   "outputs": [],
   "source": [
    "train_ohe = train.loc[:, ['brand_type', 'category', 'campaign_type']]\n",
    "test_ohe = test.loc[:, ['brand_type', 'category', 'campaign_type']]\n",
    "cat_columns = ['brand_type', 'category', 'campaign_type']\n",
    "\n",
    "encoded_train = pd.get_dummies(train_ohe, prefix_sep=\"_\", columns=cat_columns, drop_first=True).reset_index()\n",
    "encoded_test = pd.get_dummies(test_ohe, prefix_sep=\"_\", columns=cat_columns, drop_first=True).reset_index()"
   ]
  },
  {
   "cell_type": "code",
   "execution_count": 183,
   "metadata": {},
   "outputs": [
    {
     "data": {
      "text/plain": [
       "(121314, 10)"
      ]
     },
     "execution_count": 183,
     "metadata": {},
     "output_type": "execute_result"
    }
   ],
   "source": [
    "scaled_test.shape"
   ]
  },
  {
   "cell_type": "code",
   "execution_count": 184,
   "metadata": {},
   "outputs": [
    {
     "data": {
      "text/html": [
       "<div>\n",
       "<style scoped>\n",
       "    .dataframe tbody tr th:only-of-type {\n",
       "        vertical-align: middle;\n",
       "    }\n",
       "\n",
       "    .dataframe tbody tr th {\n",
       "        vertical-align: top;\n",
       "    }\n",
       "\n",
       "    .dataframe thead th {\n",
       "        text-align: right;\n",
       "    }\n",
       "</style>\n",
       "<table border=\"1\" class=\"dataframe\">\n",
       "  <thead>\n",
       "    <tr style=\"text-align: right;\">\n",
       "      <th></th>\n",
       "      <th>index</th>\n",
       "      <th>brand_type_Local</th>\n",
       "      <th>category_Dairy_Juices_Snacks</th>\n",
       "      <th>category_Flowers_Plants</th>\n",
       "      <th>category_Garden</th>\n",
       "      <th>category_Grocery</th>\n",
       "      <th>category_Meat</th>\n",
       "      <th>category_Miscellaneous</th>\n",
       "      <th>category_Natural_Products</th>\n",
       "      <th>category_Packaged_Meat</th>\n",
       "      <th>category_Pharmaceutical</th>\n",
       "      <th>category_Prepared_Food</th>\n",
       "      <th>category_Salads</th>\n",
       "      <th>category_Seafood</th>\n",
       "      <th>category_Skin_Hair_Care</th>\n",
       "      <th>category_Travel</th>\n",
       "      <th>category_Vegetables</th>\n",
       "      <th>campaign_type_Y</th>\n",
       "    </tr>\n",
       "  </thead>\n",
       "  <tbody>\n",
       "    <tr>\n",
       "      <th>0</th>\n",
       "      <td>0</td>\n",
       "      <td>0</td>\n",
       "      <td>0</td>\n",
       "      <td>0</td>\n",
       "      <td>0</td>\n",
       "      <td>1</td>\n",
       "      <td>0</td>\n",
       "      <td>0</td>\n",
       "      <td>0</td>\n",
       "      <td>0</td>\n",
       "      <td>0</td>\n",
       "      <td>0</td>\n",
       "      <td>0</td>\n",
       "      <td>0</td>\n",
       "      <td>0</td>\n",
       "      <td>0</td>\n",
       "      <td>0</td>\n",
       "      <td>0</td>\n",
       "    </tr>\n",
       "    <tr>\n",
       "      <th>1</th>\n",
       "      <td>1</td>\n",
       "      <td>0</td>\n",
       "      <td>0</td>\n",
       "      <td>0</td>\n",
       "      <td>0</td>\n",
       "      <td>1</td>\n",
       "      <td>0</td>\n",
       "      <td>0</td>\n",
       "      <td>0</td>\n",
       "      <td>0</td>\n",
       "      <td>0</td>\n",
       "      <td>0</td>\n",
       "      <td>0</td>\n",
       "      <td>0</td>\n",
       "      <td>0</td>\n",
       "      <td>0</td>\n",
       "      <td>0</td>\n",
       "      <td>0</td>\n",
       "    </tr>\n",
       "    <tr>\n",
       "      <th>2</th>\n",
       "      <td>2</td>\n",
       "      <td>0</td>\n",
       "      <td>0</td>\n",
       "      <td>0</td>\n",
       "      <td>0</td>\n",
       "      <td>1</td>\n",
       "      <td>0</td>\n",
       "      <td>0</td>\n",
       "      <td>0</td>\n",
       "      <td>0</td>\n",
       "      <td>0</td>\n",
       "      <td>0</td>\n",
       "      <td>0</td>\n",
       "      <td>0</td>\n",
       "      <td>0</td>\n",
       "      <td>0</td>\n",
       "      <td>0</td>\n",
       "      <td>0</td>\n",
       "    </tr>\n",
       "    <tr>\n",
       "      <th>3</th>\n",
       "      <td>3</td>\n",
       "      <td>0</td>\n",
       "      <td>0</td>\n",
       "      <td>0</td>\n",
       "      <td>0</td>\n",
       "      <td>1</td>\n",
       "      <td>0</td>\n",
       "      <td>0</td>\n",
       "      <td>0</td>\n",
       "      <td>0</td>\n",
       "      <td>0</td>\n",
       "      <td>0</td>\n",
       "      <td>0</td>\n",
       "      <td>0</td>\n",
       "      <td>0</td>\n",
       "      <td>0</td>\n",
       "      <td>0</td>\n",
       "      <td>0</td>\n",
       "    </tr>\n",
       "    <tr>\n",
       "      <th>4</th>\n",
       "      <td>4</td>\n",
       "      <td>0</td>\n",
       "      <td>0</td>\n",
       "      <td>0</td>\n",
       "      <td>0</td>\n",
       "      <td>1</td>\n",
       "      <td>0</td>\n",
       "      <td>0</td>\n",
       "      <td>0</td>\n",
       "      <td>0</td>\n",
       "      <td>0</td>\n",
       "      <td>0</td>\n",
       "      <td>0</td>\n",
       "      <td>0</td>\n",
       "      <td>0</td>\n",
       "      <td>0</td>\n",
       "      <td>0</td>\n",
       "      <td>0</td>\n",
       "    </tr>\n",
       "  </tbody>\n",
       "</table>\n",
       "</div>"
      ],
      "text/plain": [
       "   index  brand_type_Local  category_Dairy_Juices_Snacks  \\\n",
       "0      0                 0                             0   \n",
       "1      1                 0                             0   \n",
       "2      2                 0                             0   \n",
       "3      3                 0                             0   \n",
       "4      4                 0                             0   \n",
       "\n",
       "   category_Flowers_Plants  category_Garden  category_Grocery  category_Meat  \\\n",
       "0                        0                0                 1              0   \n",
       "1                        0                0                 1              0   \n",
       "2                        0                0                 1              0   \n",
       "3                        0                0                 1              0   \n",
       "4                        0                0                 1              0   \n",
       "\n",
       "   category_Miscellaneous  category_Natural_Products  category_Packaged_Meat  \\\n",
       "0                       0                          0                       0   \n",
       "1                       0                          0                       0   \n",
       "2                       0                          0                       0   \n",
       "3                       0                          0                       0   \n",
       "4                       0                          0                       0   \n",
       "\n",
       "   category_Pharmaceutical  category_Prepared_Food  category_Salads  \\\n",
       "0                        0                       0                0   \n",
       "1                        0                       0                0   \n",
       "2                        0                       0                0   \n",
       "3                        0                       0                0   \n",
       "4                        0                       0                0   \n",
       "\n",
       "   category_Seafood  category_Skin_Hair_Care  category_Travel  \\\n",
       "0                 0                        0                0   \n",
       "1                 0                        0                0   \n",
       "2                 0                        0                0   \n",
       "3                 0                        0                0   \n",
       "4                 0                        0                0   \n",
       "\n",
       "   category_Vegetables  campaign_type_Y  \n",
       "0                    0                0  \n",
       "1                    0                0  \n",
       "2                    0                0  \n",
       "3                    0                0  \n",
       "4                    0                0  "
      ]
     },
     "execution_count": 184,
     "metadata": {},
     "output_type": "execute_result"
    }
   ],
   "source": [
    "encoded_test.head()"
   ]
  },
  {
   "cell_type": "code",
   "execution_count": 185,
   "metadata": {},
   "outputs": [],
   "source": [
    "del encoded_train['index']\n",
    "del encoded_test['index']"
   ]
  },
  {
   "cell_type": "code",
   "execution_count": 186,
   "metadata": {},
   "outputs": [
    {
     "name": "stdout",
     "output_type": "stream",
     "text": [
      "<class 'pandas.core.frame.DataFrame'>\n",
      "RangeIndex: 121314 entries, 0 to 121313\n",
      "Data columns (total 17 columns):\n",
      " #   Column                        Non-Null Count   Dtype\n",
      "---  ------                        --------------   -----\n",
      " 0   brand_type_Local              121314 non-null  uint8\n",
      " 1   category_Dairy_Juices_Snacks  121314 non-null  uint8\n",
      " 2   category_Flowers_Plants       121314 non-null  uint8\n",
      " 3   category_Garden               121314 non-null  uint8\n",
      " 4   category_Grocery              121314 non-null  uint8\n",
      " 5   category_Meat                 121314 non-null  uint8\n",
      " 6   category_Miscellaneous        121314 non-null  uint8\n",
      " 7   category_Natural_Products     121314 non-null  uint8\n",
      " 8   category_Packaged_Meat        121314 non-null  uint8\n",
      " 9   category_Pharmaceutical       121314 non-null  uint8\n",
      " 10  category_Prepared_Food        121314 non-null  uint8\n",
      " 11  category_Salads               121314 non-null  uint8\n",
      " 12  category_Seafood              121314 non-null  uint8\n",
      " 13  category_Skin_Hair_Care       121314 non-null  uint8\n",
      " 14  category_Travel               121314 non-null  uint8\n",
      " 15  category_Vegetables           121314 non-null  uint8\n",
      " 16  campaign_type_Y               121314 non-null  uint8\n",
      "dtypes: uint8(17)\n",
      "memory usage: 2.0 MB\n"
     ]
    }
   ],
   "source": [
    "encoded_test.info()"
   ]
  },
  {
   "cell_type": "code",
   "execution_count": 187,
   "metadata": {},
   "outputs": [],
   "source": [
    "df_train = pd.concat([scaled_train, encoded_train], axis=1)\n",
    "df_test = pd.concat([scaled_test, encoded_test], axis=1)"
   ]
  },
  {
   "cell_type": "code",
   "execution_count": 188,
   "metadata": {},
   "outputs": [
    {
     "name": "stdout",
     "output_type": "stream",
     "text": [
      "(128996, 10)\n",
      "(128996, 17)\n"
     ]
    }
   ],
   "source": [
    "print(scaled_train.shape)\n",
    "print(encoded_train.shape)"
   ]
  },
  {
   "cell_type": "code",
   "execution_count": 189,
   "metadata": {},
   "outputs": [
    {
     "data": {
      "text/plain": [
       "(121314, 27)"
      ]
     },
     "execution_count": 189,
     "metadata": {},
     "output_type": "execute_result"
    }
   ],
   "source": [
    "df_test.shape"
   ]
  },
  {
   "cell_type": "code",
   "execution_count": 190,
   "metadata": {},
   "outputs": [],
   "source": [
    "df = train.loc[:, 'redemption_status'].reset_index()"
   ]
  },
  {
   "cell_type": "code",
   "execution_count": 191,
   "metadata": {},
   "outputs": [],
   "source": [
    "del df['index']"
   ]
  },
  {
   "cell_type": "code",
   "execution_count": 192,
   "metadata": {},
   "outputs": [],
   "source": [
    "df_train = pd.concat([df_train, df], axis=1)\n"
   ]
  },
  {
   "cell_type": "code",
   "execution_count": 193,
   "metadata": {},
   "outputs": [
    {
     "name": "stdout",
     "output_type": "stream",
     "text": [
      "(128996, 28)\n",
      "(121314, 27)\n"
     ]
    }
   ],
   "source": [
    "print(df_train.shape)\n",
    "print(df_test.shape)"
   ]
  },
  {
   "cell_type": "code",
   "execution_count": 194,
   "metadata": {},
   "outputs": [],
   "source": [
    "df_train.rename(columns={'redemption_status':'target'}, inplace=True)"
   ]
  },
  {
   "cell_type": "code",
   "execution_count": 195,
   "metadata": {},
   "outputs": [
    {
     "name": "stdout",
     "output_type": "stream",
     "text": [
      "<class 'pandas.core.frame.DataFrame'>\n",
      "RangeIndex: 128996 entries, 0 to 128995\n",
      "Data columns (total 28 columns):\n",
      " #   Column                        Non-Null Count   Dtype  \n",
      "---  ------                        --------------   -----  \n",
      " 0   campaign_id                   128996 non-null  float64\n",
      " 1   item_id                       128996 non-null  float64\n",
      " 2   selling_price                 128996 non-null  float64\n",
      " 3   other_discount                128996 non-null  float64\n",
      " 4   price                         128996 non-null  float64\n",
      " 5   brand                         128996 non-null  float64\n",
      " 6   income_bracket                128996 non-null  float64\n",
      " 7   daysCampaign                  128996 non-null  float64\n",
      " 8   month                         128996 non-null  float64\n",
      " 9   day                           128996 non-null  float64\n",
      " 10  brand_type_Local              128996 non-null  uint8  \n",
      " 11  category_Dairy_Juices_Snacks  128996 non-null  uint8  \n",
      " 12  category_Flowers_Plants       128996 non-null  uint8  \n",
      " 13  category_Garden               128996 non-null  uint8  \n",
      " 14  category_Grocery              128996 non-null  uint8  \n",
      " 15  category_Meat                 128996 non-null  uint8  \n",
      " 16  category_Miscellaneous        128996 non-null  uint8  \n",
      " 17  category_Natural_Products     128996 non-null  uint8  \n",
      " 18  category_Packaged_Meat        128996 non-null  uint8  \n",
      " 19  category_Pharmaceutical       128996 non-null  uint8  \n",
      " 20  category_Prepared_Food        128996 non-null  uint8  \n",
      " 21  category_Salads               128996 non-null  uint8  \n",
      " 22  category_Seafood              128996 non-null  uint8  \n",
      " 23  category_Skin_Hair_Care       128996 non-null  uint8  \n",
      " 24  category_Travel               128996 non-null  uint8  \n",
      " 25  category_Vegetables           128996 non-null  uint8  \n",
      " 26  campaign_type_Y               128996 non-null  uint8  \n",
      " 27  target                        128996 non-null  int64  \n",
      "dtypes: float64(10), int64(1), uint8(17)\n",
      "memory usage: 12.9 MB\n"
     ]
    }
   ],
   "source": [
    "df_train.info()"
   ]
  },
  {
   "cell_type": "code",
   "execution_count": 196,
   "metadata": {},
   "outputs": [],
   "source": [
    "df_train.insert(0, 'id', range(1, 1 + len(df_train)))\n",
    "df_test.insert(0, 'id', range(1, 1 + len(df_test)))"
   ]
  },
  {
   "cell_type": "code",
   "execution_count": 197,
   "metadata": {},
   "outputs": [
    {
     "data": {
      "text/html": [
       "<div>\n",
       "<style scoped>\n",
       "    .dataframe tbody tr th:only-of-type {\n",
       "        vertical-align: middle;\n",
       "    }\n",
       "\n",
       "    .dataframe tbody tr th {\n",
       "        vertical-align: top;\n",
       "    }\n",
       "\n",
       "    .dataframe thead th {\n",
       "        text-align: right;\n",
       "    }\n",
       "</style>\n",
       "<table border=\"1\" class=\"dataframe\">\n",
       "  <thead>\n",
       "    <tr style=\"text-align: right;\">\n",
       "      <th></th>\n",
       "      <th>id</th>\n",
       "      <th>campaign_id</th>\n",
       "      <th>item_id</th>\n",
       "      <th>selling_price</th>\n",
       "      <th>other_discount</th>\n",
       "      <th>price</th>\n",
       "      <th>brand</th>\n",
       "      <th>income_bracket</th>\n",
       "      <th>daysCampaign</th>\n",
       "      <th>month</th>\n",
       "      <th>...</th>\n",
       "      <th>category_Packaged_Meat</th>\n",
       "      <th>category_Pharmaceutical</th>\n",
       "      <th>category_Prepared_Food</th>\n",
       "      <th>category_Salads</th>\n",
       "      <th>category_Seafood</th>\n",
       "      <th>category_Skin_Hair_Care</th>\n",
       "      <th>category_Travel</th>\n",
       "      <th>category_Vegetables</th>\n",
       "      <th>campaign_type_Y</th>\n",
       "      <th>target</th>\n",
       "    </tr>\n",
       "  </thead>\n",
       "  <tbody>\n",
       "    <tr>\n",
       "      <th>0</th>\n",
       "      <td>1</td>\n",
       "      <td>0.483365</td>\n",
       "      <td>1.326861</td>\n",
       "      <td>-0.416052</td>\n",
       "      <td>-0.241558</td>\n",
       "      <td>-0.542712</td>\n",
       "      <td>0.782110</td>\n",
       "      <td>-1.065355</td>\n",
       "      <td>0.363159</td>\n",
       "      <td>-0.035578</td>\n",
       "      <td>...</td>\n",
       "      <td>0</td>\n",
       "      <td>0</td>\n",
       "      <td>0</td>\n",
       "      <td>0</td>\n",
       "      <td>0</td>\n",
       "      <td>0</td>\n",
       "      <td>0</td>\n",
       "      <td>0</td>\n",
       "      <td>0</td>\n",
       "      <td>0</td>\n",
       "    </tr>\n",
       "    <tr>\n",
       "      <th>1</th>\n",
       "      <td>2</td>\n",
       "      <td>-0.523252</td>\n",
       "      <td>-1.352607</td>\n",
       "      <td>0.182784</td>\n",
       "      <td>-0.604456</td>\n",
       "      <td>-0.080372</td>\n",
       "      <td>-0.124572</td>\n",
       "      <td>-0.000129</td>\n",
       "      <td>-2.396170</td>\n",
       "      <td>-0.035578</td>\n",
       "      <td>...</td>\n",
       "      <td>0</td>\n",
       "      <td>0</td>\n",
       "      <td>0</td>\n",
       "      <td>0</td>\n",
       "      <td>0</td>\n",
       "      <td>0</td>\n",
       "      <td>0</td>\n",
       "      <td>0</td>\n",
       "      <td>1</td>\n",
       "      <td>0</td>\n",
       "    </tr>\n",
       "    <tr>\n",
       "      <th>2</th>\n",
       "      <td>3</td>\n",
       "      <td>-0.523252</td>\n",
       "      <td>-1.352607</td>\n",
       "      <td>0.182784</td>\n",
       "      <td>-0.604456</td>\n",
       "      <td>-0.080372</td>\n",
       "      <td>-0.124572</td>\n",
       "      <td>-0.000129</td>\n",
       "      <td>-2.396170</td>\n",
       "      <td>-0.035578</td>\n",
       "      <td>...</td>\n",
       "      <td>0</td>\n",
       "      <td>0</td>\n",
       "      <td>0</td>\n",
       "      <td>0</td>\n",
       "      <td>0</td>\n",
       "      <td>0</td>\n",
       "      <td>0</td>\n",
       "      <td>0</td>\n",
       "      <td>1</td>\n",
       "      <td>0</td>\n",
       "    </tr>\n",
       "    <tr>\n",
       "      <th>3</th>\n",
       "      <td>4</td>\n",
       "      <td>-0.523252</td>\n",
       "      <td>0.093108</td>\n",
       "      <td>1.093541</td>\n",
       "      <td>-1.119549</td>\n",
       "      <td>0.639315</td>\n",
       "      <td>-0.124572</td>\n",
       "      <td>-0.000129</td>\n",
       "      <td>-2.396170</td>\n",
       "      <td>-0.952002</td>\n",
       "      <td>...</td>\n",
       "      <td>0</td>\n",
       "      <td>0</td>\n",
       "      <td>0</td>\n",
       "      <td>0</td>\n",
       "      <td>0</td>\n",
       "      <td>0</td>\n",
       "      <td>0</td>\n",
       "      <td>0</td>\n",
       "      <td>1</td>\n",
       "      <td>0</td>\n",
       "    </tr>\n",
       "    <tr>\n",
       "      <th>4</th>\n",
       "      <td>5</td>\n",
       "      <td>0.483365</td>\n",
       "      <td>-1.352607</td>\n",
       "      <td>0.182784</td>\n",
       "      <td>-0.604456</td>\n",
       "      <td>-0.080372</td>\n",
       "      <td>-0.124572</td>\n",
       "      <td>-0.000129</td>\n",
       "      <td>0.363159</td>\n",
       "      <td>-0.035578</td>\n",
       "      <td>...</td>\n",
       "      <td>0</td>\n",
       "      <td>0</td>\n",
       "      <td>0</td>\n",
       "      <td>0</td>\n",
       "      <td>0</td>\n",
       "      <td>0</td>\n",
       "      <td>0</td>\n",
       "      <td>0</td>\n",
       "      <td>0</td>\n",
       "      <td>0</td>\n",
       "    </tr>\n",
       "  </tbody>\n",
       "</table>\n",
       "<p>5 rows × 29 columns</p>\n",
       "</div>"
      ],
      "text/plain": [
       "   id  campaign_id   item_id  selling_price  other_discount     price  \\\n",
       "0   1     0.483365  1.326861      -0.416052       -0.241558 -0.542712   \n",
       "1   2    -0.523252 -1.352607       0.182784       -0.604456 -0.080372   \n",
       "2   3    -0.523252 -1.352607       0.182784       -0.604456 -0.080372   \n",
       "3   4    -0.523252  0.093108       1.093541       -1.119549  0.639315   \n",
       "4   5     0.483365 -1.352607       0.182784       -0.604456 -0.080372   \n",
       "\n",
       "      brand  income_bracket  daysCampaign     month  ...  \\\n",
       "0  0.782110       -1.065355      0.363159 -0.035578  ...   \n",
       "1 -0.124572       -0.000129     -2.396170 -0.035578  ...   \n",
       "2 -0.124572       -0.000129     -2.396170 -0.035578  ...   \n",
       "3 -0.124572       -0.000129     -2.396170 -0.952002  ...   \n",
       "4 -0.124572       -0.000129      0.363159 -0.035578  ...   \n",
       "\n",
       "   category_Packaged_Meat  category_Pharmaceutical  category_Prepared_Food  \\\n",
       "0                       0                        0                       0   \n",
       "1                       0                        0                       0   \n",
       "2                       0                        0                       0   \n",
       "3                       0                        0                       0   \n",
       "4                       0                        0                       0   \n",
       "\n",
       "   category_Salads  category_Seafood  category_Skin_Hair_Care  \\\n",
       "0                0                 0                        0   \n",
       "1                0                 0                        0   \n",
       "2                0                 0                        0   \n",
       "3                0                 0                        0   \n",
       "4                0                 0                        0   \n",
       "\n",
       "   category_Travel  category_Vegetables  campaign_type_Y  target  \n",
       "0                0                    0                0       0  \n",
       "1                0                    0                1       0  \n",
       "2                0                    0                1       0  \n",
       "3                0                    0                1       0  \n",
       "4                0                    0                0       0  \n",
       "\n",
       "[5 rows x 29 columns]"
      ]
     },
     "execution_count": 197,
     "metadata": {},
     "output_type": "execute_result"
    }
   ],
   "source": [
    "df_train.head()"
   ]
  },
  {
   "cell_type": "code",
   "execution_count": 198,
   "metadata": {},
   "outputs": [],
   "source": [
    "df_train.to_csv('../input/trainset.csv', index = False)\n",
    "df_test.to_csv('../input/testset.csv', index = False)"
   ]
  },
  {
   "cell_type": "code",
   "execution_count": null,
   "metadata": {},
   "outputs": [],
   "source": []
  }
 ],
 "metadata": {
  "interpreter": {
   "hash": "1b3ed50f8dd6183cc91668dc2e1274aaf9e6bfddfbc36db9494d160a2594d7a0"
  },
  "kernelspec": {
   "display_name": "Python 3.7.4 64-bit ('base': conda)",
   "name": "python3"
  },
  "language_info": {
   "codemirror_mode": {
    "name": "ipython",
    "version": 3
   },
   "file_extension": ".py",
   "mimetype": "text/x-python",
   "name": "python",
   "nbconvert_exporter": "python",
   "pygments_lexer": "ipython3",
   "version": "3.7.4"
  },
  "orig_nbformat": 4
 },
 "nbformat": 4,
 "nbformat_minor": 2
}
